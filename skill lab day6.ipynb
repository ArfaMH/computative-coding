{
 "cells": [
  {
   "cell_type": "markdown",
   "id": "eb914b06-b6b2-41b4-a6c4-2622d58624fa",
   "metadata": {},
   "source": [
    "Trees Basics"
   ]
  },
  {
   "cell_type": "markdown",
   "id": "debd5d2a-7150-4643-8a10-1d67257a7be5",
   "metadata": {},
   "source": [
    "Recursion function"
   ]
  },
  {
   "cell_type": "code",
   "execution_count": 25,
   "id": "a289f447-84c4-4d53-81ee-40d4740e50a9",
   "metadata": {},
   "outputs": [],
   "source": [
    "class BST:\n",
    "    class Node:\n",
    "        def __init__ (self,data):\n",
    "            self.data = data\n",
    "            self.left = None\n",
    "            self.right = None\n",
    "    def __init__ (self):\n",
    "        self.root = None \n",
    "    def insert(self, data):\n",
    "        new_node = BST.Node(data)\n",
    "        if self.root is None:\n",
    "            self.root = new_node\n",
    "            return\n",
    "        current = self.root\n",
    "        while True:\n",
    "            if data < current.data:\n",
    "                if current.left is None:\n",
    "                    current.left = new_node\n",
    "                    break\n",
    "                current = current.left\n",
    "            else:\n",
    "                if current.right is None:\n",
    "                    current.right = new_node\n",
    "                    break\n",
    "                current = current.right\n",
    "    def in_order_traversal(self,node):#Left->Root->Right\n",
    "        if node:\n",
    "            self.in_order_traversal(node.left)\n",
    "            print(node.data, end=' ')\n",
    "            self.in_order_traversal(node.right)\n",
    "    def pre_order_traversal(self,node): #Root-> left -> Right\n",
    "        if node:\n",
    "            print(node.data, end=' ')\n",
    "            self.pre_order_traversal(node.left)\n",
    "            self.pre_order_traversal(node.right)\n",
    "    def post_order_traversal(self,node):#Left -> Right -> Root\n",
    "        if node:\n",
    "            self.post_order_traversal(node.left)\n",
    "            self.post_order_traversal(node.right)\n",
    "            print(node.data, end=' ')\n",
    "    def search(self,key):\n",
    "        current = self.root\n",
    "        while current:\n",
    "            if key == current.data:\n",
    "                return True\n",
    "                break\n",
    "            elif key < current.data:\n",
    "                current = current.left\n",
    "            else:\n",
    "                current = current.right\n",
    "        return False\n",
    "    def isValid(self, r):\n",
    "        def validate(node, low = -float('inf'), high = float('inf'):\n",
    "            if root is None:\n",
    "                return True\n",
    "            if not(low<node.val<high):\n",
    "                return False\n",
    "            return (validate(node.left, low, node.val)) and (validate(node.right, node.val, high))\n",
    "            return isValid()"
   ]
  },
  {
   "cell_type": "code",
   "execution_count": 26,
   "id": "be052cf2-fc1f-409d-a22c-8236c5a58978",
   "metadata": {},
   "outputs": [],
   "source": [
    "B =BST()\n",
    "B.insert(90)\n",
    "B.insert(78)\n",
    "B.insert(91)\n",
    "B.insert(56)\n",
    "B.insert(99)\n",
    "B.insert(100)"
   ]
  },
  {
   "cell_type": "code",
   "execution_count": 27,
   "id": "b040e2b4-1f9c-4d08-b54d-7baf72b5d2f9",
   "metadata": {},
   "outputs": [
    {
     "name": "stdout",
     "output_type": "stream",
     "text": [
      "56 78 90 91 99 100 "
     ]
    }
   ],
   "source": [
    "B.in_order_traversal(B.root)"
   ]
  },
  {
   "cell_type": "code",
   "execution_count": 28,
   "id": "a6ceb25a-bb22-4e90-b4a1-bf597a460738",
   "metadata": {},
   "outputs": [
    {
     "data": {
      "text/plain": [
       "False"
      ]
     },
     "execution_count": 28,
     "metadata": {},
     "output_type": "execute_result"
    }
   ],
   "source": [
    "B.search(8)"
   ]
  },
  {
   "cell_type": "code",
   "execution_count": 29,
   "id": "486c223a-d521-44e3-abbd-6f1e6ee1c82c",
   "metadata": {},
   "outputs": [
    {
     "data": {
      "text/plain": [
       "True"
      ]
     },
     "execution_count": 29,
     "metadata": {},
     "output_type": "execute_result"
    }
   ],
   "source": [
    "B.search(56)"
   ]
  },
  {
   "cell_type": "code",
   "execution_count": 31,
   "id": "8bf910ed-4f9d-45d2-a64c-b9e9674499ab",
   "metadata": {},
   "outputs": [
    {
     "name": "stdout",
     "output_type": "stream",
     "text": [
      "90 78 56 91 99 100 "
     ]
    }
   ],
   "source": [
    "B.pre_order_traversal(B.root)"
   ]
  },
  {
   "cell_type": "code",
   "execution_count": 32,
   "id": "9efe7951-3826-49da-94f5-62617a2d7eda",
   "metadata": {},
   "outputs": [
    {
     "name": "stdout",
     "output_type": "stream",
     "text": [
      "56 78 100 99 91 90 "
     ]
    }
   ],
   "source": [
    "B.post_order_traversal(B.root)"
   ]
  },
  {
   "cell_type": "markdown",
   "id": "8260a28d-d5e8-409a-a9ca-5a26dea401dd",
   "metadata": {},
   "source": [
    "Maximum Depth of Binary Tree"
   ]
  },
  {
   "cell_type": "code",
   "execution_count": 1,
   "id": "3985df3e-0602-4b78-b551-0cf586bb4837",
   "metadata": {},
   "outputs": [],
   "source": [
    "def maxDepth(self, root):\n",
    "    if root is None:\n",
    "        return 0\n",
    "    leftd = self.maxDepth(root.left)\n",
    "    rightd = self.maxDepth(root.right)\n",
    "    return max(leftd, rightd) + 1"
   ]
  },
  {
   "cell_type": "markdown",
   "id": "97cd61f9-b724-427e-a8a1-479c5b66a3a3",
   "metadata": {},
   "source": [
    "Min Stack"
   ]
  },
  {
   "cell_type": "code",
   "execution_count": 10,
   "id": "8661aff0-fc98-492d-ad39-b33228d57232",
   "metadata": {},
   "outputs": [],
   "source": [
    "class ministack:\n",
    "    def __init__ (self):\n",
    "        self.s = []\n",
    "        self.minstack = []\n",
    "    def push(self, val):\n",
    "        self.s.append(val)\n",
    "        if len(self.minstack)==0 or val <= self.minstack[-1]:\n",
    "            self.minstack.append(val)\n",
    "    def pop():\n",
    "        poped = self.s.pop()\n",
    "        if poped == self.minstack[-1]:\n",
    "            self.minstack.pop()\n",
    "    def top():\n",
    "        if not self.s:\n",
    "            return None  \n",
    "        return self.s[-1]\n",
    "    def getMin(self):\n",
    "        if not self.minstack:\n",
    "            return None  \n",
    "        return self.minstack[-1]"
   ]
  },
  {
   "cell_type": "code",
   "execution_count": 11,
   "id": "0eb95ace-7a22-416c-8619-b8d01e053866",
   "metadata": {},
   "outputs": [],
   "source": [
    "M = ministack()\n",
    "M.push(9)\n",
    "M.push(3)\n",
    "M.push(9)\n",
    "M.push(5)\n",
    "M.push(78)\n"
   ]
  },
  {
   "cell_type": "code",
   "execution_count": 12,
   "id": "56bd7d95-6fd7-491a-85c2-9f109ed7a158",
   "metadata": {},
   "outputs": [
    {
     "data": {
      "text/plain": [
       "3"
      ]
     },
     "execution_count": 12,
     "metadata": {},
     "output_type": "execute_result"
    }
   ],
   "source": [
    "M.getMin()"
   ]
  },
  {
   "cell_type": "markdown",
   "id": "c07e968e-1bf5-4ad9-bf06-fa240440f1bc",
   "metadata": {},
   "source": [
    "Remove Element"
   ]
  },
  {
   "cell_type": "code",
   "execution_count": 30,
   "id": "ec6e0983-8141-4bf7-9787-515c1b1a3f09",
   "metadata": {},
   "outputs": [],
   "source": [
    "def removeElement(nums,val):\n",
    "    i = 0\n",
    "    for j in range (len(nums)):\n",
    "        if nums[j] != val:\n",
    "            nums[i]  = nums[j]\n",
    "            i += 1\n",
    "    return i"
   ]
  },
  {
   "cell_type": "code",
   "execution_count": 31,
   "id": "d925396b-aea9-430f-9da1-43ea23ed0fe1",
   "metadata": {},
   "outputs": [
    {
     "data": {
      "text/plain": [
       "2"
      ]
     },
     "execution_count": 31,
     "metadata": {},
     "output_type": "execute_result"
    }
   ],
   "source": [
    "removeElement([3,2,2,3], 3)"
   ]
  },
  {
   "cell_type": "markdown",
   "id": "44e44db7-1933-433b-ae44-2e00a7ddf607",
   "metadata": {},
   "source": [
    "1"
   ]
  },
  {
   "cell_type": "code",
   "execution_count": 75,
   "id": "80a25542-ff6c-4c9d-b937-298449e9ffde",
   "metadata": {},
   "outputs": [],
   "source": [
    "def sumofdigits(num):\n",
    "    digit = [int(d) for d in str(num)]\n",
    "    carry = 0\n",
    "    newdigit = []\n",
    "    for digit in reversed(digit):\n",
    "        total = digit + carry\n",
    "        if total > 9:\n",
    "            carry = total // 10\n",
    "            total = total % 10\n",
    "        else:\n",
    "            carry = 0\n",
    "    newdigit.append(total)\n",
    "    if carry > 0:\n",
    "        newdigit.append(carry)\n",
    "    newdigit.reverse()\n",
    "    return int(' '.join(map(str, newdigit)))"
   ]
  },
  {
   "cell_type": "code",
   "execution_count": 76,
   "id": "526cda9f-e7ba-4e23-a858-c4d1771fd10b",
   "metadata": {},
   "outputs": [
    {
     "data": {
      "text/plain": [
       "9"
      ]
     },
     "execution_count": 76,
     "metadata": {},
     "output_type": "execute_result"
    }
   ],
   "source": [
    "sumofdigits(8+1)"
   ]
  },
  {
   "cell_type": "code",
   "execution_count": 77,
   "id": "64379bc8-ac93-4774-ba96-4606b8ce3b72",
   "metadata": {},
   "outputs": [
    {
     "data": {
      "text/plain": [
       "1"
      ]
     },
     "execution_count": 77,
     "metadata": {},
     "output_type": "execute_result"
    }
   ],
   "source": [
    "sumofdigits(9+2)"
   ]
  },
  {
   "cell_type": "code",
   "execution_count": 78,
   "id": "b4f2d790-01af-4de2-b252-db842f0133a3",
   "metadata": {},
   "outputs": [],
   "source": [
    "def countword(sentence):\n",
    "    word = sentence.split()\n",
    "    wordcount = {}\n",
    "    for w in word:\n",
    "        if w in wordcount:\n",
    "            wordcount[w] = wordcount[w] + 1\n",
    "        else:\n",
    "            wordcount[w] =1\n",
    "    return wordcount"
   ]
  },
  {
   "cell_type": "code",
   "execution_count": 79,
   "id": "c16cf945-a5f1-47e0-8e0a-e531800cb872",
   "metadata": {},
   "outputs": [
    {
     "data": {
      "text/plain": [
       "{'hi': 2, 'how': 1, 'are': 2, 'you': 1}"
      ]
     },
     "execution_count": 79,
     "metadata": {},
     "output_type": "execute_result"
    }
   ],
   "source": [
    "countword(\"hi how are are you hi\")"
   ]
  },
  {
   "cell_type": "code",
   "execution_count": null,
   "id": "a63711a5-9ebf-4280-9f4c-b7c2633227a0",
   "metadata": {},
   "outputs": [],
   "source": []
  }
 ],
 "metadata": {
  "kernelspec": {
   "display_name": "Python 3 (ipykernel)",
   "language": "python",
   "name": "python3"
  },
  "language_info": {
   "codemirror_mode": {
    "name": "ipython",
    "version": 3
   },
   "file_extension": ".py",
   "mimetype": "text/x-python",
   "name": "python",
   "nbconvert_exporter": "python",
   "pygments_lexer": "ipython3",
   "version": "3.12.4"
  }
 },
 "nbformat": 4,
 "nbformat_minor": 5
}
