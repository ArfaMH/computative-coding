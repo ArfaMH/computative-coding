{
 "cells": [
  {
   "cell_type": "markdown",
   "id": "e25535c2-c310-4f04-97c9-a94cc94b7b01",
   "metadata": {},
   "source": [
    "coding problems on DSA"
   ]
  },
  {
   "cell_type": "code",
   "execution_count": 26,
   "id": "15bac256-288c-428e-b407-5f9b8c528caf",
   "metadata": {},
   "outputs": [],
   "source": [
    "class LinkedList:\n",
    "    class Node:\n",
    "        def __init__(self, data):\n",
    "            self.data = data\n",
    "            self.next = None\n",
    "    def __init__(self):\n",
    "        self.head = None\n",
    "    def insert_begin(self, data):\n",
    "        new_node = linkedlist.Node(data)\n",
    "        new_node.next = self.head\n",
    "        self.head = new_node\n",
    "    def insertend(self,data):\n",
    "        new_node = linkedlist.Node(data)\n",
    "        current = self.head\n",
    "    def traverse(self,current):\n",
    "        current = self.head\n",
    "        while current:  \n",
    "            print(current.data, end=\" --> \")\n",
    "            current = current.next\n",
    "        print(None)\n",
    "    def debynode(self,val):\n",
    "        if self.head == None:\n",
    "            return \"List is empty\"\n",
    "        current = self.head\n",
    "        while current.next:\n",
    "            if current.next.data == val:\n",
    "                break\n",
    "            current = current.next\n",
    "        if current.next == None:\n",
    "            print(\"Node doesn't exist\")\n",
    "        else:\n",
    "            current.next = current.next.next\n",
    "            "
   ]
  },
  {
   "cell_type": "code",
   "execution_count": 29,
   "id": "825b53a0-d07f-4ce2-a970-f2a4360e1ddc",
   "metadata": {},
   "outputs": [
    {
     "ename": "AttributeError",
     "evalue": "'LinkedList' object has no attribute 'LinkedList'",
     "output_type": "error",
     "traceback": [
      "\u001b[1;31m---------------------------------------------------------------------------\u001b[0m",
      "\u001b[1;31mAttributeError\u001b[0m                            Traceback (most recent call last)",
      "Cell \u001b[1;32mIn[29], line 2\u001b[0m\n\u001b[0;32m      1\u001b[0m LL \u001b[38;5;241m=\u001b[39m LinkedList()\n\u001b[1;32m----> 2\u001b[0m \u001b[43mLL\u001b[49m\u001b[38;5;241;43m.\u001b[39;49m\u001b[43mLinkedList\u001b[49m(\u001b[38;5;241m90\u001b[39m)\n\u001b[0;32m      3\u001b[0m LL\u001b[38;5;241m.\u001b[39mLinkedList(\u001b[38;5;241m86\u001b[39m)\n\u001b[0;32m      4\u001b[0m LL\u001b[38;5;241m.\u001b[39mLinkedList(\u001b[38;5;241m73\u001b[39m)\n",
      "\u001b[1;31mAttributeError\u001b[0m: 'LinkedList' object has no attribute 'LinkedList'"
     ]
    }
   ],
   "source": [
    "LL = LinkedList()\n",
    "LL.LinkedList(90)\n",
    "LL.LinkedList(86)\n",
    "LL.LinkedList(73)\n",
    "LL.LinkedList(60)\n",
    "LL.traverse()"
   ]
  },
  {
   "cell_type": "markdown",
   "id": "f3f59039-781d-43e5-a906-db33c127f30f",
   "metadata": {},
   "source": [
    "Lnkedlist cycle"
   ]
  },
  {
   "cell_type": "code",
   "execution_count": 30,
   "id": "559a0f39-0510-4e29-bc58-59290d64d12f",
   "metadata": {},
   "outputs": [],
   "source": [
    "def hascycle(self):\n",
    "    t, r = self.head\n",
    "    while r and r.next:\n",
    "        t = t.next\n",
    "        r = r.next.next\n",
    "        if r==t:\n",
    "            return \"Cycle Found\"\n",
    "    return \"No Cycle\""
   ]
  },
  {
   "cell_type": "markdown",
   "id": "83aa1383-e44a-42ce-9c68-30d8fd55443b",
   "metadata": {},
   "source": [
    "Middle of the linked list(876)"
   ]
  },
  {
   "cell_type": "code",
   "execution_count": 2,
   "id": "4d580083-8176-4d75-9682-6994d4a35cda",
   "metadata": {},
   "outputs": [],
   "source": [
    "def midlink(self):\n",
    "    t, r = self.head\n",
    "    while r and r.next:\n",
    "        t = t.next\n",
    "        r = r.next.next\n",
    "    return t"
   ]
  },
  {
   "cell_type": "markdown",
   "id": "03ea22ab-0af6-45ab-84d7-448c0bec6bef",
   "metadata": {},
   "source": [
    "Reverse Linked list"
   ]
  },
  {
   "cell_type": "code",
   "execution_count": 6,
   "id": "a5244415-8a67-4421-88fe-74279daeb993",
   "metadata": {},
   "outputs": [],
   "source": [
    "def revlink(self):\n",
    "    current =self.head\n",
    "    prev = Null\n",
    "    while current:\n",
    "        N = current.next\n",
    "        current.next = prev\n",
    "        prev = current\n",
    "        current = N\n",
    "    head = prev\n",
    "    return prev"
   ]
  },
  {
   "cell_type": "markdown",
   "id": "3c74cf19-1a14-40e5-938a-505b8bca1c0d",
   "metadata": {},
   "source": [
    "Merge two sorted list\n"
   ]
  },
  {
   "cell_type": "code",
   "execution_count": 7,
   "id": "ddace152-bad7-4d49-b172-98e3fdbd7951",
   "metadata": {},
   "outputs": [],
   "source": [
    "def merge(self,l1,l2):\n",
    "    dummy = Node(0)\n",
    "    currrent = dummy\n",
    "    while l1 and l2:\n",
    "        if l1.val < l2.val:\n",
    "            current.next = l1\n",
    "            l1 = l1.next\n",
    "        else:\n",
    "            current.next = l2\n",
    "            l2 = l2.next\n",
    "    if l1:\n",
    "        current.next = l1\n",
    "    elif l2:\n",
    "        current.next = l2\n",
    "    return dummy.next"
   ]
  },
  {
   "cell_type": "code",
   "execution_count": 7,
   "id": "f2202fdd-8066-4802-8154-60634406d995",
   "metadata": {},
   "outputs": [],
   "source": [
    "def posint(m,n):\n",
    "    sum =0\n",
    "    for i in range(m, n+1):\n",
    "        if(i%3 == 0) and (i%5 ==0):\n",
    "            sum += i\n",
    "    return sum\n",
    "    m = int(input(\"Enter the value of m:\"))\n",
    "    n = int(input(\"Enter the value of n:\"))\n",
    "    result = posint(m,n)\n",
    "    print(result)"
   ]
  },
  {
   "cell_type": "code",
   "execution_count": 9,
   "id": "8e15391b-0791-4825-839c-12514a96738e",
   "metadata": {},
   "outputs": [
    {
     "data": {
      "text/plain": [
       "90"
      ]
     },
     "execution_count": 9,
     "metadata": {},
     "output_type": "execute_result"
    }
   ],
   "source": [
    "posint(12,50)"
   ]
  },
  {
   "cell_type": "markdown",
   "id": "35259646-6607-4ad8-99d1-7acff1025973",
   "metadata": {},
   "source": [
    "Add two numbers"
   ]
  },
  {
   "cell_type": "code",
   "execution_count": 10,
   "id": "288a4aa0-947d-4ab9-b1da-355d8644ff09",
   "metadata": {},
   "outputs": [],
   "source": [
    "def add(l1,l2):\n",
    "    dummy = Node(0)\n",
    "    current = dummy\n",
    "    carry = 0\n",
    "    while l1 or l2 or carry:\n",
    "        val1 = l1.data if l1 else 0\n",
    "        val2 = l2.data if l2 else 0\n",
    "        total = val1 + val2 + carry\n",
    "        carry = total // 10\n",
    "        element = total % 10\n",
    "        newnode = linkedlist.Node(element)\n",
    "        current.next = newnode\n",
    "        current = current.next\n",
    "    return dummy.next"
   ]
  },
  {
   "cell_type": "markdown",
   "id": "45c44151-d02d-4c77-b9c4-796891d33771",
   "metadata": {},
   "source": [
    "Maximum sum of sub array(imp)"
   ]
  },
  {
   "cell_type": "code",
   "execution_count": 1,
   "id": "6162361d-e3d0-4c9d-a49d-ae88392071f3",
   "metadata": {},
   "outputs": [],
   "source": [
    "def maxsum(arr):\n",
    "    c = arr[0]\n",
    "    g = arr[0]\n",
    "    for i in range(1, len(arr)):\n",
    "        c = max(arr[i], c+arr[i])\n",
    "        g = max(c,g)\n",
    "    return g"
   ]
  },
  {
   "cell_type": "code",
   "execution_count": 2,
   "id": "096ac581-7646-4a4c-be72-da6105b738aa",
   "metadata": {},
   "outputs": [
    {
     "data": {
      "text/plain": [
       "17"
      ]
     },
     "execution_count": 2,
     "metadata": {},
     "output_type": "execute_result"
    }
   ],
   "source": [
    "maxsum([7,9,-2,3,-9])"
   ]
  },
  {
   "cell_type": "code",
   "execution_count": 4,
   "id": "0cee7d99-6962-4cae-aedd-5dee43be8ce6",
   "metadata": {},
   "outputs": [
    {
     "data": {
      "text/plain": [
       "11"
      ]
     },
     "execution_count": 4,
     "metadata": {},
     "output_type": "execute_result"
    }
   ],
   "source": [
    "maxsum([-1,-2,3,7,1,-6])"
   ]
  },
  {
   "cell_type": "markdown",
   "id": "7e28ed37-5412-4bd0-b4f7-38e1913fc79d",
   "metadata": {},
   "source": [
    "Implementing Queue using stacks"
   ]
  },
  {
   "cell_type": "code",
   "execution_count": 22,
   "id": "b7ada881-62cf-4015-8cb1-084fa9e4ff93",
   "metadata": {},
   "outputs": [],
   "source": [
    "class stack:\n",
    "    def __init__ (self):\n",
    "        self.s1 = []\n",
    "        self.temp = []\n",
    "    def push(self,val):\n",
    "        while self.s1:\n",
    "            popped = self.s1.pop()\n",
    "            self.temp.append(popped)\n",
    "        self.s1.append(val)\n",
    "        while self.temp:\n",
    "            poped = self.temp.pop()\n",
    "            self.s1.append(poped)\n",
    "    def pop(self):\n",
    "        return self.s1.pop() if self.s1 else \"No elements\"\n",
    "    def peek(self):\n",
    "        return self.s1[-1] if self.s1 else \"No elements\"\n",
    "    def empty(self):\n",
    "        return len(self.s1) == 0 "
   ]
  },
  {
   "cell_type": "code",
   "execution_count": 23,
   "id": "26d03b8a-4db3-4b84-a407-1c12343db444",
   "metadata": {},
   "outputs": [
    {
     "data": {
      "text/plain": [
       "90"
      ]
     },
     "execution_count": 23,
     "metadata": {},
     "output_type": "execute_result"
    }
   ],
   "source": [
    "s = stack()\n",
    "s.push(90)\n",
    "s.push(86)\n",
    "s.push(70)\n",
    "s.pop()"
   ]
  },
  {
   "cell_type": "code",
   "execution_count": null,
   "id": "8eb710f4-4a55-45ff-8ac1-ca0c71ca9d2b",
   "metadata": {},
   "outputs": [],
   "source": []
  }
 ],
 "metadata": {
  "kernelspec": {
   "display_name": "Python 3 (ipykernel)",
   "language": "python",
   "name": "python3"
  },
  "language_info": {
   "codemirror_mode": {
    "name": "ipython",
    "version": 3
   },
   "file_extension": ".py",
   "mimetype": "text/x-python",
   "name": "python",
   "nbconvert_exporter": "python",
   "pygments_lexer": "ipython3",
   "version": "3.12.4"
  }
 },
 "nbformat": 4,
 "nbformat_minor": 5
}
