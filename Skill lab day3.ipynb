{
 "cells": [
  {
   "cell_type": "markdown",
   "id": "b9852468-63e9-4a3e-88ee-8ed0216d31fd",
   "metadata": {},
   "source": [
    "ADD BINARY"
   ]
  },
  {
   "cell_type": "code",
   "execution_count": 5,
   "id": "b31d9282-9cb9-4255-a049-32ab32ad062d",
   "metadata": {},
   "outputs": [
    {
     "name": "stdout",
     "output_type": "stream",
     "text": [
      "3\n"
     ]
    }
   ],
   "source": [
    "a = \"11\"\n",
    "b = int(a,2)  #binary to integer\n",
    "print(b)\n",
    "    "
   ]
  },
  {
   "cell_type": "code",
   "execution_count": 6,
   "id": "35fdc689-5010-4b8e-ae35-2fe576f10532",
   "metadata": {},
   "outputs": [
    {
     "name": "stdout",
     "output_type": "stream",
     "text": [
      "1\n"
     ]
    }
   ],
   "source": [
    "c = \"1\"\n",
    "d = int(c,2)\n",
    "print(d)"
   ]
  },
  {
   "cell_type": "code",
   "execution_count": 8,
   "id": "e0287db0-7d18-4280-b42e-d7cefb193196",
   "metadata": {},
   "outputs": [
    {
     "data": {
      "text/plain": [
       "'100'"
      ]
     },
     "execution_count": 8,
     "metadata": {},
     "output_type": "execute_result"
    }
   ],
   "source": [
    "bin(b+d)[2:]"
   ]
  },
  {
   "cell_type": "code",
   "execution_count": 13,
   "id": "4d098acc-1e3d-4fb5-b38b-4cbca46f8bd9",
   "metadata": {},
   "outputs": [],
   "source": [
    "def binaddition(a,b):\n",
    "    return bin(int(a,2) + int(b,2))[2:]"
   ]
  },
  {
   "cell_type": "code",
   "execution_count": 14,
   "id": "431d9b95-541d-4d89-80f4-3bc1c9c3b17b",
   "metadata": {},
   "outputs": [
    {
     "data": {
      "text/plain": [
       "'110'"
      ]
     },
     "execution_count": 14,
     "metadata": {},
     "output_type": "execute_result"
    }
   ],
   "source": [
    "binaddition(\"101\",\"1\")"
   ]
  },
  {
   "cell_type": "markdown",
   "id": "75bc2b7d-4f84-4b84-be61-f5e0c8a912bb",
   "metadata": {},
   "source": [
    "Distance between given points"
   ]
  },
  {
   "cell_type": "code",
   "execution_count": 16,
   "id": "4b6ef858-ebe1-400d-918f-b858e5d5f27f",
   "metadata": {},
   "outputs": [],
   "source": [
    "import math\n",
    "import numpy"
   ]
  },
  {
   "cell_type": "code",
   "execution_count": 36,
   "id": "7d918646-32bd-4e47-9fd4-7b7e62f82c36",
   "metadata": {},
   "outputs": [],
   "source": [
    "def distance(x1,x2,x3,y1,y2,y3):\n",
    "    a = math.sqrt (math.pow(x2 - x1, 2)) + (math.pow(y2 - y1, 2))\n",
    "    b = math.sqrt (math.pow(x3 - x2, 2)) + (math.pow(y3 - y2, 2))\n",
    "    c = math.sqrt(math.pow(x3 - x1, 2)) + (math.pow(y3 - y1, 2))\n",
    "    return round (a, 2) + round (b, 2) + round (c,2)"
   ]
  },
  {
   "cell_type": "code",
   "execution_count": 37,
   "id": "426a2203-8f8b-45f2-9c8b-5fa9f5e20194",
   "metadata": {},
   "outputs": [
    {
     "data": {
      "text/plain": [
       "14.0"
      ]
     },
     "execution_count": 37,
     "metadata": {},
     "output_type": "execute_result"
    }
   ],
   "source": [
    "distance(4,6,7,2,4,2)"
   ]
  },
  {
   "cell_type": "code",
   "execution_count": 34,
   "id": "481d6554-03fd-4de1-8d01-4686a42e6021",
   "metadata": {},
   "outputs": [],
   "source": [
    "def sumofdistance(x1,x2,x3,y1,y2,y3):\n",
    "    import math\n",
    "    AB = ((x2-x1)**2+(y2-y1)**2)**0.5\n",
    "    BC = ((x3-x2)**2+(y3-y2)**2)**0.5\n",
    "    CA = ((x3-x1)**2+(y3-y1)**2)**0.5\n",
    "    return AB + BC + CA"
   ]
  },
  {
   "cell_type": "code",
   "execution_count": 35,
   "id": "04979b21-14a3-42df-9392-d89f1d960588",
   "metadata": {},
   "outputs": [
    {
     "data": {
      "text/plain": [
       "8.06449510224598"
      ]
     },
     "execution_count": 35,
     "metadata": {},
     "output_type": "execute_result"
    }
   ],
   "source": [
    "sumofdistance(4,6,7,2,4,2)"
   ]
  },
  {
   "cell_type": "markdown",
   "id": "28f114ea-0bdc-45d2-b51c-971c01a099da",
   "metadata": {},
   "source": [
    "A TO I"
   ]
  },
  {
   "cell_type": "code",
   "execution_count": 43,
   "id": "cdb58251-b50f-4625-aa67-7a8400c45853",
   "metadata": {},
   "outputs": [],
   "source": [
    "def atoi(s):\n",
    "    s=s.strip()\n",
    "    sign = 1\n",
    "    #no conversion\n",
    "    if len(s) == 0:\n",
    "        return 0\n",
    "    #Signdness\n",
    "    if s[0]=='-':\n",
    "        sign = -1\n",
    "        s=s[1:]\n",
    "    elif s[0]=='+':\n",
    "        s=s[1:]\n",
    "    #Conversion\n",
    "    result = 0\n",
    "    for i in s:\n",
    "        if i.isdigit():\n",
    "            digit=int(i)\n",
    "            result = result*10 + digit\n",
    "        else:\n",
    "            break\n",
    "    result = result*sign\n",
    "    #rounding to maxi or mini\n",
    "    mini = -2**31\n",
    "    maxi = 2**31 - 1\n",
    "    if result > maxi:\n",
    "        return maxi\n",
    "    elif result < mini:\n",
    "        return mini\n",
    "    else:\n",
    "        return result\n",
    "    "
   ]
  },
  {
   "cell_type": "code",
   "execution_count": 44,
   "id": "26f818e6-1349-4ca3-b381-89041ab247ed",
   "metadata": {},
   "outputs": [
    {
     "data": {
      "text/plain": [
       "827364"
      ]
     },
     "execution_count": 44,
     "metadata": {},
     "output_type": "execute_result"
    }
   ],
   "source": [
    "atoi(\"    827364ui16\")"
   ]
  },
  {
   "cell_type": "markdown",
   "id": "a074b36a-570c-4f57-b766-e7925394f731",
   "metadata": {},
   "source": [
    "ROMAN TO INTEGER"
   ]
  },
  {
   "cell_type": "code",
   "execution_count": 72,
   "id": "ef59825d-fafc-4c6e-a1ad-b1dc5dc9c7e5",
   "metadata": {},
   "outputs": [],
   "source": [
    "def romtoInt(s):\n",
    "    R = {\n",
    "        \"I\":1,\n",
    "        \"V\":5,\n",
    "        \"X\":10,\n",
    "        \"L\":50,\n",
    "        \"C\":100,\n",
    "        \"D\":500,\n",
    "        \"M\":1000\n",
    "    }\n",
    "    total = 0\n",
    "    for i in range(len(s)):\n",
    "        cval = R[s[i]]\n",
    "        nval = R[s[i+1]] if i+1<len(s) else 0\n",
    "        if cval >= nval:\n",
    "            total = total + cval\n",
    "        else:\n",
    "            total = total - cval\n",
    "    return total"
   ]
  },
  {
   "cell_type": "code",
   "execution_count": 74,
   "id": "621c8070-24c7-4aec-9d1d-582364940c29",
   "metadata": {},
   "outputs": [
    {
     "data": {
      "text/plain": [
       "58"
      ]
     },
     "execution_count": 74,
     "metadata": {},
     "output_type": "execute_result"
    }
   ],
   "source": [
    "romtoInt('LVIII')"
   ]
  },
  {
   "cell_type": "markdown",
   "id": "422863c5-e4ad-41c5-94ac-b064f83a6261",
   "metadata": {},
   "source": [
    "Randomizing items of a list"
   ]
  },
  {
   "cell_type": "code",
   "execution_count": 75,
   "id": "a8e4be3d-8361-481f-9ea6-6f059e8792c6",
   "metadata": {},
   "outputs": [],
   "source": [
    "import random"
   ]
  },
  {
   "cell_type": "code",
   "execution_count": 80,
   "id": "8fa84466-e183-472c-986e-1c4909054fab",
   "metadata": {},
   "outputs": [
    {
     "data": {
      "text/plain": [
       "[3, 7, 2, 6, 4]"
      ]
     },
     "execution_count": 80,
     "metadata": {},
     "output_type": "execute_result"
    }
   ],
   "source": [
    "list1 = [2,3,4,6,7]\n",
    "random.shuffle(list1)\n",
    "list1"
   ]
  },
  {
   "cell_type": "code",
   "execution_count": 81,
   "id": "b959a997-c7d7-432b-9fe9-434241ee8746",
   "metadata": {},
   "outputs": [],
   "source": [
    "def randomize(arr):\n",
    "    import random as rd\n",
    "    rd.shuffle(arr)\n",
    "    return arr"
   ]
  },
  {
   "cell_type": "code",
   "execution_count": 83,
   "id": "2d6cf7cc-a757-4c26-a5bd-c4296249a57c",
   "metadata": {},
   "outputs": [
    {
     "data": {
      "text/plain": [
       "[6, 7, 8, 5, 9]"
      ]
     },
     "execution_count": 83,
     "metadata": {},
     "output_type": "execute_result"
    }
   ],
   "source": [
    "randomize([9,8,7,6,5])"
   ]
  },
  {
   "cell_type": "markdown",
   "id": "a5f63ae0-8a19-4c80-8625-dc581669ca7f",
   "metadata": {},
   "source": [
    "FIRST OCCURENCE OF A STRING"
   ]
  },
  {
   "cell_type": "code",
   "execution_count": 1,
   "id": "51782084-87e1-4fb3-88ba-927eb9421f90",
   "metadata": {},
   "outputs": [],
   "source": [
    "def substring(haystack, needle):\n",
    "    return haystack.find(needle)"
   ]
  },
  {
   "cell_type": "code",
   "execution_count": 4,
   "id": "86c39807-9e75-4d42-9fc5-24ecc1e23a35",
   "metadata": {},
   "outputs": [
    {
     "data": {
      "text/plain": [
       "1"
      ]
     },
     "execution_count": 4,
     "metadata": {},
     "output_type": "execute_result"
    }
   ],
   "source": [
    "haystack = \"hellohowareyou\"\n",
    "needle = \"ell\"\n",
    "substring(haystack, needle)"
   ]
  },
  {
   "cell_type": "markdown",
   "id": "5d36433b-4f26-44c2-94a6-c0ac05593266",
   "metadata": {},
   "source": [
    "Two Sum"
   ]
  },
  {
   "cell_type": "code",
   "execution_count": 5,
   "id": "4a788a9e-8047-40b3-9d64-4db7fdd97182",
   "metadata": {},
   "outputs": [],
   "source": [
    "def twosum(nums, target):\n",
    "    n = len(nums)\n",
    "    for i in range(n):\n",
    "        for j in range(i + 1,n):\n",
    "            if nums[i] + nums[j] == target:\n",
    "                return [i,j]"
   ]
  },
  {
   "cell_type": "code",
   "execution_count": 6,
   "id": "e3a6e17e-3dc2-4034-9726-ee5aa6a9d0cb",
   "metadata": {},
   "outputs": [
    {
     "data": {
      "text/plain": [
       "[0, 1]"
      ]
     },
     "execution_count": 6,
     "metadata": {},
     "output_type": "execute_result"
    }
   ],
   "source": [
    "twosum([2,7,11,15],9)"
   ]
  },
  {
   "cell_type": "markdown",
   "id": "68a35e39-435b-4fc0-bdfa-377f0e8a5ae7",
   "metadata": {},
   "source": [
    "Tax Calculator"
   ]
  },
  {
   "cell_type": "code",
   "execution_count": 2,
   "id": "059b92ac-60eb-4f0a-8c4f-930fec83d277",
   "metadata": {},
   "outputs": [],
   "source": [
    "def tax_calc(sal):\n",
    "    res=0\n",
    "    if sal<0:\n",
    "        return 0\n",
    "    elif sal>=0 and sal<=5000:\n",
    "        return \"No Tax\"\n",
    "    elif sal>=5001 and sal<=10000:\n",
    "        res=res+(sal-(sal*0.05+10))\n",
    "        return res\n",
    "    elif sal>=10001 and sal<=50000:\n",
    "        res=res+(sal-(sal*0.1+100))\n",
    "        return res\n",
    "    elif sal>=50001 and sal<=100000:\n",
    "        res=res+(sal-(sal*0.15+10))\n",
    "        return res\n",
    "    elif sal>=100000 and sal<=5000000:\n",
    "        res=res+(sal-(sal*0.2+10))\n",
    "        return res\n",
    "    elif sal>5000000:\n",
    "        return \"Limit exceeded\""
   ]
  },
  {
   "cell_type": "code",
   "execution_count": 5,
   "id": "8ee420a4-c830-41fe-8c90-c141c8ab049e",
   "metadata": {},
   "outputs": [
    {
     "data": {
      "text/plain": [
       "84990.0"
      ]
     },
     "execution_count": 5,
     "metadata": {},
     "output_type": "execute_result"
    }
   ],
   "source": [
    "tax_calc(100000)"
   ]
  },
  {
   "cell_type": "markdown",
   "id": "80b133ac-a9cd-4cb2-bbe2-aa042a6ea41c",
   "metadata": {},
   "source": [
    "Remove Duplicates from Sorted Array"
   ]
  },
  {
   "cell_type": "code",
   "execution_count": 20,
   "id": "28b43132-edb7-453d-96d7-335a24d238a4",
   "metadata": {},
   "outputs": [],
   "source": [
    "def removeduplicates(nums):\n",
    "        ind = 1\n",
    "        for i in range(1, len(nums)):\n",
    "            if nums[i] != nums[i-1]:\n",
    "                nums[ind] = nums[i]\n",
    "                ind += 1\n",
    "        return ind"
   ]
  },
  {
   "cell_type": "code",
   "execution_count": 21,
   "id": "edba306a-2f10-4ca5-a15a-ce415d38fac3",
   "metadata": {},
   "outputs": [
    {
     "data": {
      "text/plain": [
       "4"
      ]
     },
     "execution_count": 21,
     "metadata": {},
     "output_type": "execute_result"
    }
   ],
   "source": [
    "removeduplicates([1,1,2,3,4,4])"
   ]
  },
  {
   "cell_type": "markdown",
   "id": "527a3ca6-d16e-4e5c-a175-f7321d989403",
   "metadata": {},
   "source": [
    "Claimbing Stairs"
   ]
  },
  {
   "cell_type": "code",
   "execution_count": 65,
   "id": "66618817-f6e6-4f6c-b7cc-e692dd53299e",
   "metadata": {},
   "outputs": [],
   "source": [
    "def claimbstairs(n):\n",
    "    a = 1\n",
    "    b = 2\n",
    "    for i in range(3, n+1):\n",
    "        a,b = b, a+b\n",
    "    return b"
   ]
  },
  {
   "cell_type": "code",
   "execution_count": 66,
   "id": "f2f7d33b-be47-459c-84b8-4f2f30e10e0b",
   "metadata": {},
   "outputs": [
    {
     "data": {
      "text/plain": [
       "13"
      ]
     },
     "execution_count": 66,
     "metadata": {},
     "output_type": "execute_result"
    }
   ],
   "source": [
    "claimbstairs(6)"
   ]
  },
  {
   "cell_type": "code",
   "execution_count": null,
   "id": "70c4b81b-9af6-4164-9985-ad0c65b8d1e4",
   "metadata": {},
   "outputs": [],
   "source": []
  }
 ],
 "metadata": {
  "kernelspec": {
   "display_name": "Python 3 (ipykernel)",
   "language": "python",
   "name": "python3"
  },
  "language_info": {
   "codemirror_mode": {
    "name": "ipython",
    "version": 3
   },
   "file_extension": ".py",
   "mimetype": "text/x-python",
   "name": "python",
   "nbconvert_exporter": "python",
   "pygments_lexer": "ipython3",
   "version": "3.12.4"
  }
 },
 "nbformat": 4,
 "nbformat_minor": 5
}
