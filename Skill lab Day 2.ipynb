{
 "cells": [
  {
   "cell_type": "markdown",
   "id": "1d3a958a-e16d-4a6c-8387-d22c59005fb9",
   "metadata": {},
   "source": [
    "Hyphens "
   ]
  },
  {
   "cell_type": "code",
   "execution_count": 1,
   "id": "a63d37ee-5d50-4865-a7a0-dd1ae9ad2246",
   "metadata": {},
   "outputs": [],
   "source": [
    "#hello-hi-sir\n",
    "def hyphens(s):\n",
    "    alph=''\n",
    "    hyp=''\n",
    "    for i in s:   #h\n",
    "        if i == '-':\n",
    "            hyp = hyp + i\n",
    "        else:\n",
    "            alph = alph + i\n",
    "    return hyp+alph"
   ]
  },
  {
   "cell_type": "code",
   "execution_count": 5,
   "id": "360505c1-7096-4f49-84c8-209f698198ba",
   "metadata": {},
   "outputs": [
    {
     "data": {
      "text/plain": [
       "'----searchingforapassion'"
      ]
     },
     "execution_count": 5,
     "metadata": {},
     "output_type": "execute_result"
    }
   ],
   "source": [
    "hyphens(\"search-ing-for-a-passion\")"
   ]
  },
  {
   "cell_type": "markdown",
   "id": "78bd67d3-be57-4785-8458-7edbc2bfa2e7",
   "metadata": {},
   "source": [
    "N-Base Notations"
   ]
  },
  {
   "cell_type": "code",
   "execution_count": 27,
   "id": "1c46bc93-949a-4c01-8c38-53fdc1889774",
   "metadata": {},
   "outputs": [],
   "source": [
    "def nbase(num,n):   #718, 12\n",
    "    remi=[]\n",
    "    while num !=0:\n",
    "        rem = num % n   #10\n",
    "        remi.append(rem)\n",
    "        num = num // n  #59\n",
    "#Conversion\n",
    "    result=''\n",
    "    for i in remi:\n",
    "        if i>9:\n",
    "            c=chr(i+55)\n",
    "            result = result + c\n",
    "        else:\n",
    "            c= str(i)\n",
    "            result = result + c\n",
    "    return result[::-1]"
   ]
  },
  {
   "cell_type": "code",
   "execution_count": 31,
   "id": "1f2a6938-ebb7-4de0-9f6e-f026201674dc",
   "metadata": {},
   "outputs": [
    {
     "data": {
      "text/plain": [
       "'2C6'"
      ]
     },
     "execution_count": 31,
     "metadata": {},
     "output_type": "execute_result"
    }
   ],
   "source": [
    "nbase(500,13)"
   ]
  },
  {
   "cell_type": "markdown",
   "id": "4521abce-bb56-4086-af97-3c1f76640433",
   "metadata": {},
   "source": [
    "CheckPassword"
   ]
  },
  {
   "cell_type": "code",
   "execution_count": 36,
   "id": "b8cd22db-1c69-4bfb-a69a-96a4ea2e94b9",
   "metadata": {},
   "outputs": [],
   "source": [
    "def password(pwd):\n",
    "    if len(pwd) < 4:\n",
    "        return 0\n",
    "    if pwd[0].isdigit():\n",
    "        return 0\n",
    "    cap = 0\n",
    "    nu = 0\n",
    "    for i in pwd:\n",
    "        if i.isupper():\n",
    "            cap = 1\n",
    "        elif i.isdigit():\n",
    "            nu = 1\n",
    "        elif i == \" \" or i == \"/\":\n",
    "            return 0\n",
    "    if cap == 1 and nu == 1:\n",
    "        return 1\n",
    "    else:\n",
    "        return 0"
   ]
  },
  {
   "cell_type": "code",
   "execution_count": 40,
   "id": "5ae1c311-c273-4afe-aa9a-083525a992b2",
   "metadata": {},
   "outputs": [
    {
     "data": {
      "text/plain": [
       "1"
      ]
     },
     "execution_count": 40,
     "metadata": {},
     "output_type": "execute_result"
    }
   ],
   "source": [
    "password(\"wuON62\")"
   ]
  },
  {
   "cell_type": "code",
   "execution_count": 14,
   "id": "4ec93cc3-2d8b-4631-8d15-5627b58966d8",
   "metadata": {},
   "outputs": [],
   "source": [
    "def differenceofSum(n,m):\n",
    "    sumdivm = 0\n",
    "    sumdivn = 0\n",
    "    for i in range (1, m+1):\n",
    "        if i % n == 0:\n",
    "            sumdivm = sumdivm + i\n",
    "        else:\n",
    "            sumdivn = sumdivn + i\n",
    "    return abs(sumdivm-sumdivn)"
   ]
  },
  {
   "cell_type": "code",
   "execution_count": 16,
   "id": "5cdebee5-7097-4be4-b784-0f15c052e819",
   "metadata": {},
   "outputs": [
    {
     "data": {
      "text/plain": [
       "90"
      ]
     },
     "execution_count": 16,
     "metadata": {},
     "output_type": "execute_result"
    }
   ],
   "source": [
    "differenceofSum(4,20)"
   ]
  },
  {
   "cell_type": "code",
   "execution_count": 24,
   "id": "e546d6d5-99b0-4d07-84b2-26177e603a18",
   "metadata": {},
   "outputs": [
    {
     "name": "stdout",
     "output_type": "stream",
     "text": [
      "[4] []\n",
      "[4] [1]\n",
      "[4, 3] [1]\n",
      "[4, 3] [1, 6]\n",
      "[4, 3, 2] [1, 6]\n",
      "[4, 3, 2] [1, 6, 11]\n"
     ]
    }
   ],
   "source": [
    "arr=[4,1,3,6,2,11]\n",
    "even = []\n",
    "odd = []\n",
    "for i in range (len(arr)):\n",
    "    if i % 2 == 0:\n",
    "        even.append(arr[i])\n",
    "    else:\n",
    "        odd.append(arr[i])\n",
    "    print(even, odd)"
   ]
  },
  {
   "cell_type": "markdown",
   "id": "fce2bc8e-0361-4328-b2be-c895c8de096f",
   "metadata": {},
   "source": [
    "Large and Small Sum"
   ]
  },
  {
   "cell_type": "code",
   "execution_count": 32,
   "id": "743d8fb6-7512-4366-8e94-e39978acbfcc",
   "metadata": {},
   "outputs": [],
   "source": [
    "def LargeSmallSum(arr):\n",
    "    if len(arr) <= 3:\n",
    "        return 0\n",
    "    e = []\n",
    "    o = []\n",
    "    for i in range (len(arr)):\n",
    "        if i % 2 == 0:\n",
    "            e.append(arr[i])\n",
    "        else:\n",
    "            o.append(arr[i])\n",
    "    o.sort()\n",
    "    e.sort(reverse = True)\n",
    "    return (e[1]+ o[1])\n",
    "\n"
   ]
  },
  {
   "cell_type": "code",
   "execution_count": 33,
   "id": "3e6d9859-4f87-41b8-b89b-9957a35044f2",
   "metadata": {},
   "outputs": [],
   "source": [
    "arr=[4,1,3,6,2,11,5,5]"
   ]
  },
  {
   "cell_type": "code",
   "execution_count": 34,
   "id": "12bd5b6b-a498-4e3a-92d1-49a740ecf97d",
   "metadata": {},
   "outputs": [
    {
     "data": {
      "text/plain": [
       "9"
      ]
     },
     "execution_count": 34,
     "metadata": {},
     "output_type": "execute_result"
    }
   ],
   "source": [
    "LargeSmallSum(arr)"
   ]
  },
  {
   "cell_type": "markdown",
   "id": "9929d6d9-4b64-4481-ba46-59f83ce1254f",
   "metadata": {},
   "source": [
    "OR"
   ]
  },
  {
   "cell_type": "code",
   "execution_count": 35,
   "id": "40d025f2-898a-4d37-bb3d-4c02ab00530c",
   "metadata": {},
   "outputs": [],
   "source": [
    "def lss(arr):\n",
    "    n = len(arr)\n",
    "    e = arr[0:n:2]\n",
    "    o = arr[1:n:2]\n",
    "    e.sort(reverse = True)\n",
    "    o.sort()\n",
    "    return e[1] + o[1]"
   ]
  },
  {
   "cell_type": "code",
   "execution_count": 36,
   "id": "26a426f4-2ab4-448f-8d51-5b01331eba00",
   "metadata": {},
   "outputs": [
    {
     "data": {
      "text/plain": [
       "9"
      ]
     },
     "execution_count": 36,
     "metadata": {},
     "output_type": "execute_result"
    }
   ],
   "source": [
    "lss([4,1,3,6,2,11,5,5])"
   ]
  },
  {
   "cell_type": "markdown",
   "id": "bc3179b9-1144-4936-a6b9-4f7804081f53",
   "metadata": {},
   "source": [
    "Product of smallest pair"
   ]
  },
  {
   "cell_type": "code",
   "execution_count": 15,
   "id": "4dd68728-e792-4099-a1c5-bd2ec4fe9fd9",
   "metadata": {},
   "outputs": [],
   "source": [
    "def psp(arr,s):\n",
    "    if len(arr) < 2:\n",
    "        return -1\n",
    "    arr.sort()\n",
    "    if arr[0] + arr[1] < s:\n",
    "        return arr[0]*arr[1]\n",
    "    else:\n",
    "        return 0"
   ]
  },
  {
   "cell_type": "code",
   "execution_count": 16,
   "id": "ae056a4a-4cda-4a70-83d2-ffca0f02c020",
   "metadata": {},
   "outputs": [
    {
     "data": {
      "text/plain": [
       "0"
      ]
     },
     "execution_count": 16,
     "metadata": {},
     "output_type": "execute_result"
    }
   ],
   "source": [
    "psp([4,1,3,7,8],3)"
   ]
  },
  {
   "cell_type": "code",
   "execution_count": 17,
   "id": "847bb515-57ab-43c8-9979-49db3ade40ce",
   "metadata": {},
   "outputs": [
    {
     "data": {
      "text/plain": [
       "3"
      ]
     },
     "execution_count": 17,
     "metadata": {},
     "output_type": "execute_result"
    }
   ],
   "source": [
    "psp([4,1,3,7,8],6)"
   ]
  },
  {
   "cell_type": "markdown",
   "id": "692e17b6-9505-470e-a6a0-a9b8c6237d6c",
   "metadata": {},
   "source": [
    "Absolute Difference"
   ]
  },
  {
   "cell_type": "code",
   "execution_count": 44,
   "id": "1b34b1b3-f796-47e6-9eca-2f0fef258443",
   "metadata": {},
   "outputs": [],
   "source": [
    "def findcount(arr,num,diff):\n",
    "    count = 0\n",
    "    for i in arr:\n",
    "        if abs(i-num) <= diff:\n",
    "            count = count + 1\n",
    "    if count == 0:\n",
    "        return -1\n",
    "    else:\n",
    "        return count"
   ]
  },
  {
   "cell_type": "code",
   "execution_count": 49,
   "id": "e971aa2f-ca4a-40c2-b2a5-366b5f0ffadc",
   "metadata": {},
   "outputs": [
    {
     "data": {
      "text/plain": [
       "-1"
      ]
     },
     "execution_count": 49,
     "metadata": {},
     "output_type": "execute_result"
    }
   ],
   "source": [
    "findcount([90,70,30,21,12],8,2)"
   ]
  },
  {
   "cell_type": "code",
   "execution_count": 48,
   "id": "17efb91b-48e7-42ec-8613-4e9469088d1c",
   "metadata": {},
   "outputs": [
    {
     "data": {
      "text/plain": [
       "3"
      ]
     },
     "execution_count": 48,
     "metadata": {},
     "output_type": "execute_result"
    }
   ],
   "source": [
    "findcount([9,7,13,21,10],8,2)"
   ]
  },
  {
   "cell_type": "markdown",
   "id": "2d3c11e7-f59e-4964-874b-516ce2e063db",
   "metadata": {},
   "source": [
    "Valid Parantheses"
   ]
  },
  {
   "cell_type": "code",
   "execution_count": 53,
   "id": "9590b057-d9c6-40c1-9093-cf614d1e4219",
   "metadata": {},
   "outputs": [
    {
     "name": "stdout",
     "output_type": "stream",
     "text": [
      "True\n"
     ]
    }
   ],
   "source": [
    "dict1 = {'(':')', '{':'}','[':']'}\n",
    "i = '['\n",
    "print(i in dict1)"
   ]
  },
  {
   "cell_type": "code",
   "execution_count": 59,
   "id": "f8b58b76-85bd-48dd-8acb-9b61ade0f7e0",
   "metadata": {},
   "outputs": [],
   "source": [
    "def validpara(p):\n",
    "    dict1 = {'(':')', '{':'}','[':']'}\n",
    "    stack=[]\n",
    "    for i in p:\n",
    "        if i in dict1:\n",
    "            stack.append(dict1[i])\n",
    "        else:\n",
    "            if not stack or stack.pop() !=i:\n",
    "                return False\n",
    "    if len(stack) == 0:\n",
    "        return True\n",
    "    else:\n",
    "        return False"
   ]
  },
  {
   "cell_type": "code",
   "execution_count": 60,
   "id": "8ec36c78-2d2d-4a1a-8e07-805810143983",
   "metadata": {},
   "outputs": [
    {
     "data": {
      "text/plain": [
       "False"
      ]
     },
     "execution_count": 60,
     "metadata": {},
     "output_type": "execute_result"
    }
   ],
   "source": [
    "validpara('[{(})]')"
   ]
  },
  {
   "cell_type": "code",
   "execution_count": null,
   "id": "a411d647-2bd7-44c4-9c58-b83231d0051e",
   "metadata": {},
   "outputs": [],
   "source": []
  },
  {
   "cell_type": "code",
   "execution_count": null,
   "id": "3271b402-2d2f-4b72-9332-bafb478faf86",
   "metadata": {},
   "outputs": [],
   "source": []
  }
 ],
 "metadata": {
  "kernelspec": {
   "display_name": "Python 3 (ipykernel)",
   "language": "python",
   "name": "python3"
  },
  "language_info": {
   "codemirror_mode": {
    "name": "ipython",
    "version": 3
   },
   "file_extension": ".py",
   "mimetype": "text/x-python",
   "name": "python",
   "nbconvert_exporter": "python",
   "pygments_lexer": "ipython3",
   "version": "3.12.4"
  }
 },
 "nbformat": 4,
 "nbformat_minor": 5
}
