{
 "cells": [
  {
   "cell_type": "markdown",
   "id": "b855e5c9-becd-4e35-bfd8-71ae1d3c2fc0",
   "metadata": {},
   "source": [
    "Intersection of Two Arrays"
   ]
  },
  {
   "cell_type": "code",
   "execution_count": 3,
   "id": "331d243d-14c3-4d3c-ad43-f790574f5aa5",
   "metadata": {},
   "outputs": [],
   "source": [
    "def intersection(nums1, nums2):\n",
    "    s1 = set(nums1)\n",
    "    s2 = set(nums2)\n",
    "    return list(s1.intersection(s2))"
   ]
  },
  {
   "cell_type": "code",
   "execution_count": 5,
   "id": "b7788a4f-4539-4ece-98cc-c3abcd28600a",
   "metadata": {},
   "outputs": [
    {
     "data": {
      "text/plain": [
       "[8, 9, 4]"
      ]
     },
     "execution_count": 5,
     "metadata": {},
     "output_type": "execute_result"
    }
   ],
   "source": [
    "intersection([9,8,4,5],[7,8,9,4])"
   ]
  },
  {
   "cell_type": "markdown",
   "id": "7fc63676-dc74-4351-9be4-2a55a723b5fd",
   "metadata": {},
   "source": [
    "Rat count house"
   ]
  },
  {
   "cell_type": "code",
   "execution_count": 22,
   "id": "cd49465c-fc78-4ebe-a31b-98e58e47537e",
   "metadata": {},
   "outputs": [],
   "source": [
    "def ratcount(r,units,n,arr):\n",
    "    totalfood = r*units\n",
    "    return totalfood"
   ]
  },
  {
   "cell_type": "code",
   "execution_count": 24,
   "id": "c45c0251-5f1d-4c8a-a5a0-9693134704ce",
   "metadata": {},
   "outputs": [
    {
     "data": {
      "text/plain": [
       "14"
      ]
     },
     "execution_count": 24,
     "metadata": {},
     "output_type": "execute_result"
    }
   ],
   "source": [
    "ratcount(7,2,8,[9,8,3,4,2])"
   ]
  },
  {
   "cell_type": "code",
   "execution_count": 59,
   "id": "a34ac78d-cc97-4cb1-82c9-1f7d54d6a059",
   "metadata": {},
   "outputs": [],
   "source": [
    "def ratcount(r,units,n,arr):\n",
    "    #array is null\n",
    "    if n == 0:\n",
    "        return -1\n",
    "        #stealing\n",
    "    totalfood = r*units\n",
    "    food = 0\n",
    "    for house in range(n):\n",
    "        food = food + arr[house]\n",
    "        if food >= totalfood:\n",
    "            break\n",
    "        #after stealing still not sufficient\n",
    "    if sum(arr) < totalfood:\n",
    "        return 0\n",
    "    #if sufficient return house number\n",
    "    return house + 1"
   ]
  },
  {
   "cell_type": "code",
   "execution_count": 60,
   "id": "c52c889b-750a-493d-b682-caf327497e27",
   "metadata": {},
   "outputs": [
    {
     "data": {
      "text/plain": [
       "4"
      ]
     },
     "execution_count": 60,
     "metadata": {},
     "output_type": "execute_result"
    }
   ],
   "source": [
    "ratcount(7,2,8,[2,8,3,5,7,4])"
   ]
  },
  {
   "cell_type": "code",
   "execution_count": 61,
   "id": "088c79d6-38e4-41f6-ba30-0fa136bfae4a",
   "metadata": {},
   "outputs": [
    {
     "data": {
      "text/plain": [
       "-1"
      ]
     },
     "execution_count": 61,
     "metadata": {},
     "output_type": "execute_result"
    }
   ],
   "source": [
    "ratcount(7,2,0,[])"
   ]
  },
  {
   "cell_type": "markdown",
   "id": "2b864ef2-afde-4cd7-9cef-97356ab8d064",
   "metadata": {},
   "source": [
    "Calculate the factors"
   ]
  },
  {
   "cell_type": "code",
   "execution_count": 79,
   "id": "bd3d97f7-45e0-4691-9162-85a02c1145cf",
   "metadata": {},
   "outputs": [],
   "source": [
    "def factorlist(nums):\n",
    "    if nums <= 0:\n",
    "        return 0\n",
    "    factors = []\n",
    "    for i in range(1, nums + 1):\n",
    "        if nums % i == 0:\n",
    "            factors.append(i)\n",
    "    return factors"
   ]
  },
  {
   "cell_type": "code",
   "execution_count": 85,
   "id": "01fc4e61-e022-46ef-8dc3-c74a1d07c2be",
   "metadata": {},
   "outputs": [
    {
     "data": {
      "text/plain": [
       "[1, 2, 3, 4, 6, 12]"
      ]
     },
     "execution_count": 85,
     "metadata": {},
     "output_type": "execute_result"
    }
   ],
   "source": [
    "factorlist(12)"
   ]
  },
  {
   "cell_type": "code",
   "execution_count": 86,
   "id": "86b368e0-c557-4f4e-bdf0-7079357ebae0",
   "metadata": {},
   "outputs": [
    {
     "data": {
      "text/plain": [
       "0"
      ]
     },
     "execution_count": 86,
     "metadata": {},
     "output_type": "execute_result"
    }
   ],
   "source": [
    "factorlist(0)"
   ]
  },
  {
   "cell_type": "code",
   "execution_count": 87,
   "id": "4fcbf61f-8d27-4f82-aaea-8a2e26ec5ef9",
   "metadata": {},
   "outputs": [
    {
     "data": {
      "text/plain": [
       "0"
      ]
     },
     "execution_count": 87,
     "metadata": {},
     "output_type": "execute_result"
    }
   ],
   "source": [
    "factorlist(-12)"
   ]
  },
  {
   "cell_type": "code",
   "execution_count": 81,
   "id": "ef98ae6b-2d1f-474b-8c05-758b07fe9ce6",
   "metadata": {},
   "outputs": [],
   "source": [
    "#List Comprehension \n",
    "def fact(nums):\n",
    "    if nums <= 0:\n",
    "        return 0\n",
    "    mylist = [i for i in range(1, nums+1) if nums%i==0]\n",
    "    return mylist"
   ]
  },
  {
   "cell_type": "code",
   "execution_count": 82,
   "id": "6eae344a-dc1b-4e1f-a41e-7e7c2e700bf0",
   "metadata": {},
   "outputs": [
    {
     "data": {
      "text/plain": [
       "[1, 2, 3, 4, 6, 12]"
      ]
     },
     "execution_count": 82,
     "metadata": {},
     "output_type": "execute_result"
    }
   ],
   "source": [
    "fact(12)"
   ]
  },
  {
   "cell_type": "code",
   "execution_count": 83,
   "id": "6027d1e8-a5b3-4c54-91c4-412a53316e6c",
   "metadata": {},
   "outputs": [
    {
     "data": {
      "text/plain": [
       "0"
      ]
     },
     "execution_count": 83,
     "metadata": {},
     "output_type": "execute_result"
    }
   ],
   "source": [
    "fact(-45)"
   ]
  },
  {
   "cell_type": "code",
   "execution_count": 84,
   "id": "9780d815-af80-4cd8-93bd-2b19354a461c",
   "metadata": {},
   "outputs": [
    {
     "data": {
      "text/plain": [
       "0"
      ]
     },
     "execution_count": 84,
     "metadata": {},
     "output_type": "execute_result"
    }
   ],
   "source": [
    "fact(0)"
   ]
  },
  {
   "cell_type": "markdown",
   "id": "ade82bed-5441-4ab6-92bd-d5bcda281ec9",
   "metadata": {},
   "source": [
    "Reverse a string using stack/array"
   ]
  },
  {
   "cell_type": "code",
   "execution_count": 128,
   "id": "48b22e8e-79bc-43e1-84f2-fe8de00cc967",
   "metadata": {},
   "outputs": [],
   "source": [
    "def reverse(str):\n",
    "    stack = []\n",
    "    for i in str:\n",
    "        stack.append(i)\n",
    "    reversed_str = ''\n",
    "    for i in stack:\n",
    "        stack.pop()\n",
    "        reversed_str = reversed_str + stack.pop()\n",
    "    return reversed_str"
   ]
  },
  {
   "cell_type": "code",
   "execution_count": 129,
   "id": "faaf9dfd-94ee-4f9b-ace9-2606f6d18cab",
   "metadata": {},
   "outputs": [
    {
     "data": {
      "text/plain": [
       "'lk'"
      ]
     },
     "execution_count": 129,
     "metadata": {},
     "output_type": "execute_result"
    }
   ],
   "source": [
    "reverse('kill')"
   ]
  },
  {
   "cell_type": "code",
   "execution_count": 121,
   "id": "5e659b0b-fc53-4195-8718-387fb36eb8ef",
   "metadata": {},
   "outputs": [],
   "source": [
    "class mystack:\n",
    "    def __init__ (self):\n",
    "        self.st = []\n",
    "    def revstr(self, mystr):\n",
    "        result = ''\n",
    "        for i in mystr:\n",
    "            self.st.append(i)\n",
    "        for i in range(len(self.st)):\n",
    "            poped = self.st.pop()\n",
    "            result = result + poped\n",
    "        return result"
   ]
  },
  {
   "cell_type": "code",
   "execution_count": 122,
   "id": "3026ab1d-2741-4dce-8bb4-9ebb85654673",
   "metadata": {},
   "outputs": [
    {
     "data": {
      "text/plain": [
       "'llik'"
      ]
     },
     "execution_count": 122,
     "metadata": {},
     "output_type": "execute_result"
    }
   ],
   "source": [
    "B = mystack()\n",
    "B.revstr(\"kill\")"
   ]
  },
  {
   "cell_type": "markdown",
   "id": "00071cb9-01da-49e9-bed7-07a39a339356",
   "metadata": {},
   "source": [
    "Number of stars of missing number"
   ]
  },
  {
   "cell_type": "code",
   "execution_count": 2,
   "id": "09dfb16f-d63e-4abb-9bb8-0f10cc388279",
   "metadata": {},
   "outputs": [],
   "source": [
    "def miss(arr):\n",
    "    for i in range(1, arr[-1]+1):\n",
    "        if i not in arr:\n",
    "            return i*'*'"
   ]
  },
  {
   "cell_type": "code",
   "execution_count": 3,
   "id": "7eaa22b7-e30c-476d-9a69-992c1a76397c",
   "metadata": {},
   "outputs": [
    {
     "data": {
      "text/plain": [
       "'****'"
      ]
     },
     "execution_count": 3,
     "metadata": {},
     "output_type": "execute_result"
    }
   ],
   "source": [
    "arr = [1,2,3,5,6,7,8]\n",
    "miss(arr)"
   ]
  },
  {
   "cell_type": "code",
   "execution_count": 5,
   "id": "f5431c53-535d-4b3e-b1f0-1ed9ed6594f0",
   "metadata": {},
   "outputs": [
    {
     "data": {
      "text/plain": [
       "'*******'"
      ]
     },
     "execution_count": 5,
     "metadata": {},
     "output_type": "execute_result"
    }
   ],
   "source": [
    "arr = [1,2,3,4,5,6,8,9]\n",
    "miss(arr)"
   ]
  },
  {
   "cell_type": "markdown",
   "id": "ed797070-a954-467f-9dc3-06cd74981f07",
   "metadata": {},
   "source": [
    "Excel Sheet Column Number"
   ]
  },
  {
   "cell_type": "code",
   "execution_count": 16,
   "id": "5313a4a1-9c22-454d-a733-df551a22ee1c",
   "metadata": {},
   "outputs": [
    {
     "data": {
      "text/plain": [
       "'A'"
      ]
     },
     "execution_count": 16,
     "metadata": {},
     "output_type": "execute_result"
    }
   ],
   "source": [
    "chr(65)\n"
   ]
  },
  {
   "cell_type": "code",
   "execution_count": 12,
   "id": "b3ee66fd-70ff-4d38-a0e8-7b469171b3af",
   "metadata": {},
   "outputs": [
    {
     "data": {
      "text/plain": [
       "2"
      ]
     },
     "execution_count": 12,
     "metadata": {},
     "output_type": "execute_result"
    }
   ],
   "source": [
    "ord('B') -64"
   ]
  },
  {
   "cell_type": "code",
   "execution_count": 17,
   "id": "5cf645df-ddfe-4daf-a55f-65a85ff382e0",
   "metadata": {},
   "outputs": [],
   "source": [
    "def col(name):\n",
    "    result = 0\n",
    "    for i in name:\n",
    "        result = result*26+ord(i) -64\n",
    "    return result"
   ]
  },
  {
   "cell_type": "code",
   "execution_count": 19,
   "id": "0d96c965-2fc6-4035-928a-89cbe8eee2b1",
   "metadata": {},
   "outputs": [
    {
     "data": {
      "text/plain": [
       "704"
      ]
     },
     "execution_count": 19,
     "metadata": {},
     "output_type": "execute_result"
    }
   ],
   "source": [
    "col('AAB')"
   ]
  },
  {
   "cell_type": "code",
   "execution_count": 20,
   "id": "5cd90756-cf26-4156-81af-42611d38f078",
   "metadata": {},
   "outputs": [
    {
     "data": {
      "text/plain": [
       "53"
      ]
     },
     "execution_count": 20,
     "metadata": {},
     "output_type": "execute_result"
    }
   ],
   "source": [
    "col('BA')"
   ]
  },
  {
   "cell_type": "markdown",
   "id": "cdd5885e-876e-4a17-90fb-a2514f6365a2",
   "metadata": {},
   "source": [
    "Demonstrate ATM functions"
   ]
  },
  {
   "cell_type": "markdown",
   "id": "16776ea9-c1e8-4915-ae74-e77188c14e80",
   "metadata": {},
   "source": [
    "- Option 1:Withdrawal\n",
    "- Option 2:Deposit\n",
    "- Option 3:Balance enquiry\n",
    "- Option 4:Offers on FD\n",
    "- Option 5:Change ATM pin\n",
    "- Option 6:Quit"
   ]
  },
  {
   "cell_type": "code",
   "execution_count": null,
   "id": "2037a358-7ba0-409b-b37c-a94da80d670f",
   "metadata": {},
   "outputs": [],
   "source": [
    "pin = {\"Arfa\":\"4577\",\"Kavya\":\"7364\",\"Hema\":\"4534\",\"Bhavya\":\"3452\",\"Akshatha\":\"6452\"}\n",
    "bal = {\"Arfa\":10000,\"Kavya\":15000,\"Hema\":20000,\"Bhavya\":25000,\"Akshatha\":30000}"
   ]
  },
  {
   "cell_type": "code",
   "execution_count": 3,
   "id": "36022062-2b63-4812-a32b-fd085df1e1f8",
   "metadata": {},
   "outputs": [],
   "source": [
    "def atm(): \n",
    "    print(\"Welcome to KGF Bank\") \n",
    "    pins = {\"Arfa\":\"4344\",\"Kavya\":\"7364\",\"Hema\":\"4534\",\"Bhavya\":\"3452\",\"Akshatha\":\"6452\"} \n",
    "    bal = {\"Arfa\":10000,\"Kavya\":15000,\"Hema\":20000,\"Bhavya\":25000,\"Akshatha\":30000} \n",
    "    name = input(\"Enter your name:\") \n",
    "    pin = input(\"Enter your pin:\") \n",
    "    if pins[name] != pin: \n",
    "        return \"Invalid pin\" \n",
    "    while True: \n",
    "        choices = \"Option 1:Withdrawal \\n Option 2:Deposit \\n option 3: Balance enquiry \\n Option 4:Offers on FD \\n Option 5:Change ATM pin \\n Option 6:Quit \\n\"\n",
    "        print(choices) \n",
    "        choice = int(input(\"Enter your Choice\")) \n",
    "        if choice == 1: \n",
    "            print(\"WITHDRAW\") \n",
    "            w = int(input(\"Enter the withdrawal amount: \")) \n",
    "            if w > bal[name]:\n",
    "                print(\"Insufficient Balance\")\n",
    "            else:\n",
    "                bal[name] = bal[name] - w\n",
    "        elif choice == 2: \n",
    "            print(\"DEPOSIT\") \n",
    "            d = int(input(\"Enter the deposit amount: \")) \n",
    "            bal[name] = bal[name] + d\n",
    "        elif choice == 3:\n",
    "            print(\"Your current Balance is: \", bal[name])\n",
    "        elif choice == 4:\n",
    "            print(\"FD rates are high if you lock 1L for 5years\")\n",
    "        elif choice == 5:\n",
    "            newpin = input(\"Enter your new PIN: \")\n",
    "            pins[name] = newpin\n",
    "            print(\"Pin updated\")\n",
    "        elif choice == 6:\n",
    "            break"
   ]
  },
  {
   "cell_type": "code",
   "execution_count": 2,
   "id": "a9c4f231-e746-496f-a0d4-d7a1d0dd7b3f",
   "metadata": {},
   "outputs": [
    {
     "name": "stdout",
     "output_type": "stream",
     "text": [
      "Welcome to KGF Bank\n"
     ]
    },
    {
     "name": "stdin",
     "output_type": "stream",
     "text": [
      "Enter your name: Arfa\n",
      "Enter your pin: 4577\n"
     ]
    },
    {
     "name": "stdout",
     "output_type": "stream",
     "text": [
      "Option 1:Withdrawal \n",
      " Option 2:Deposit \n",
      " option 3: Balance enquiry \n",
      " Option 4:Offers on FD \n",
      " Option 5:Change ATM pin \n",
      " Option 6:Quit \n",
      "\n"
     ]
    },
    {
     "name": "stdin",
     "output_type": "stream",
     "text": [
      "Enter your Choice 1\n"
     ]
    },
    {
     "name": "stdout",
     "output_type": "stream",
     "text": [
      "WITHDRAW\n"
     ]
    },
    {
     "name": "stdin",
     "output_type": "stream",
     "text": [
      "Enter the withdrawal amount:  5000\n"
     ]
    },
    {
     "name": "stdout",
     "output_type": "stream",
     "text": [
      "Option 1:Withdrawal \n",
      " Option 2:Deposit \n",
      " option 3: Balance enquiry \n",
      " Option 4:Offers on FD \n",
      " Option 5:Change ATM pin \n",
      " Option 6:Quit \n",
      "\n"
     ]
    },
    {
     "name": "stdin",
     "output_type": "stream",
     "text": [
      "Enter your Choice 3\n"
     ]
    },
    {
     "name": "stdout",
     "output_type": "stream",
     "text": [
      "Your current Balance is:  5000\n",
      "Option 1:Withdrawal \n",
      " Option 2:Deposit \n",
      " option 3: Balance enquiry \n",
      " Option 4:Offers on FD \n",
      " Option 5:Change ATM pin \n",
      " Option 6:Quit \n",
      "\n"
     ]
    },
    {
     "name": "stdin",
     "output_type": "stream",
     "text": [
      "Enter your Choice 2\n"
     ]
    },
    {
     "name": "stdout",
     "output_type": "stream",
     "text": [
      "DEPOSIT\n"
     ]
    },
    {
     "name": "stdin",
     "output_type": "stream",
     "text": [
      "Enter the deposit amount:  10000\n"
     ]
    },
    {
     "name": "stdout",
     "output_type": "stream",
     "text": [
      "Option 1:Withdrawal \n",
      " Option 2:Deposit \n",
      " option 3: Balance enquiry \n",
      " Option 4:Offers on FD \n",
      " Option 5:Change ATM pin \n",
      " Option 6:Quit \n",
      "\n"
     ]
    },
    {
     "name": "stdin",
     "output_type": "stream",
     "text": [
      "Enter your Choice 3\n"
     ]
    },
    {
     "name": "stdout",
     "output_type": "stream",
     "text": [
      "Your current Balance is:  15000\n",
      "Option 1:Withdrawal \n",
      " Option 2:Deposit \n",
      " option 3: Balance enquiry \n",
      " Option 4:Offers on FD \n",
      " Option 5:Change ATM pin \n",
      " Option 6:Quit \n",
      "\n"
     ]
    },
    {
     "name": "stdin",
     "output_type": "stream",
     "text": [
      "Enter your Choice 4\n"
     ]
    },
    {
     "name": "stdout",
     "output_type": "stream",
     "text": [
      "FD rates are high if you lock 1L for 5years\n",
      "Option 1:Withdrawal \n",
      " Option 2:Deposit \n",
      " option 3: Balance enquiry \n",
      " Option 4:Offers on FD \n",
      " Option 5:Change ATM pin \n",
      " Option 6:Quit \n",
      "\n"
     ]
    },
    {
     "name": "stdin",
     "output_type": "stream",
     "text": [
      "Enter your Choice 5\n",
      "Enter your new PIN:  4344\n"
     ]
    },
    {
     "name": "stdout",
     "output_type": "stream",
     "text": [
      "Pin updated\n",
      "Option 1:Withdrawal \n",
      " Option 2:Deposit \n",
      " option 3: Balance enquiry \n",
      " Option 4:Offers on FD \n",
      " Option 5:Change ATM pin \n",
      " Option 6:Quit \n",
      "\n"
     ]
    },
    {
     "name": "stdin",
     "output_type": "stream",
     "text": [
      "Enter your Choice 6\n"
     ]
    }
   ],
   "source": [
    "atm()"
   ]
  },
  {
   "cell_type": "code",
   "execution_count": 4,
   "id": "da95fe1a-f29f-4dcf-ac7e-404e3f662341",
   "metadata": {},
   "outputs": [
    {
     "name": "stdout",
     "output_type": "stream",
     "text": [
      "4344\n"
     ]
    }
   ],
   "source": [
    "pins = {\"Arfa\":\"4344\",\"Kavya\":\"7364\",\"Hema\":\"4534\",\"Bhavya\":\"3452\",\"Akshatha\":\"6452\"} \n",
    "print(pins[\"Arfa\"])"
   ]
  },
  {
   "cell_type": "markdown",
   "id": "f4b16be0-93f2-4d1e-982e-fc659167c30b",
   "metadata": {},
   "source": [
    "Removing Nth node from Linked List"
   ]
  },
  {
   "cell_type": "code",
   "execution_count": 14,
   "id": "0baabb27-7082-4b13-9836-21e2eb90d64e",
   "metadata": {},
   "outputs": [],
   "source": [
    "class linkedlist:\n",
    "    class Node:\n",
    "        def __init__ (self, data):\n",
    "            self.data = data\n",
    "            self.next = None\n",
    "    def __init__(self):\n",
    "        self.head = None\n",
    "    def insertbegg(self, data):\n",
    "        newnode = linkedlist.Node(data)\n",
    "        newnode.next = self.head\n",
    "        self.head = newnode\n",
    "    def traverse(self,current):\n",
    "        current = self.head\n",
    "        while current:  \n",
    "            print(current.data, end=\" --> \")\n",
    "            current = current.next\n",
    "        print(None)\n",
    "    def nodefromrev(self,n):\n",
    "        count = 0\n",
    "        current = self.head\n",
    "        while current:\n",
    "            count = count+1\n",
    "            current = current.next\n",
    "        if count == n:\n",
    "            return self.head.next\n",
    "        ptr1 = self.head\n",
    "        for _ in range(count-n-1):\n",
    "            ptr1 = ptr1.next\n",
    "        ptr1.next = ptr1.next.next"
   ]
  },
  {
   "cell_type": "code",
   "execution_count": 15,
   "id": "890ecff5-0c75-4904-ba6e-1df11dcd1155",
   "metadata": {},
   "outputs": [],
   "source": [
    "LL = linkedlist()\n",
    "LL.insertbegg(86)\n",
    "LL.insertbegg(93)\n",
    "LL.insertbegg(71)\n",
    "LL.insertbegg(4)\n",
    "LL.insertbegg(6)\n",
    "LL.insertbegg(7)"
   ]
  },
  {
   "cell_type": "code",
   "execution_count": 18,
   "id": "4288e1fd-0210-4230-aad1-0fad237c0bb5",
   "metadata": {},
   "outputs": [
    {
     "name": "stdout",
     "output_type": "stream",
     "text": [
      "7 --> 6 --> 4 --> 71 --> 93 --> 86 --> None\n"
     ]
    }
   ],
   "source": [
    "LL.traverse(linkedlist)"
   ]
  },
  {
   "cell_type": "code",
   "execution_count": 20,
   "id": "4669fd06-b01e-4fc6-8570-e38380a7253b",
   "metadata": {},
   "outputs": [],
   "source": [
    "LL.nodefromrev(4)"
   ]
  },
  {
   "cell_type": "code",
   "execution_count": 21,
   "id": "791658dd-116b-42fb-bde8-088b9ce2e33e",
   "metadata": {},
   "outputs": [
    {
     "name": "stdout",
     "output_type": "stream",
     "text": [
      "7 --> 6 --> 71 --> 93 --> 86 --> None\n"
     ]
    }
   ],
   "source": [
    "LL.traverse(linkedlist)"
   ]
  },
  {
   "cell_type": "code",
   "execution_count": null,
   "id": "559455fc-3598-415c-9438-28c38dee02d5",
   "metadata": {},
   "outputs": [],
   "source": []
  }
 ],
 "metadata": {
  "kernelspec": {
   "display_name": "Python 3 (ipykernel)",
   "language": "python",
   "name": "python3"
  },
  "language_info": {
   "codemirror_mode": {
    "name": "ipython",
    "version": 3
   },
   "file_extension": ".py",
   "mimetype": "text/x-python",
   "name": "python",
   "nbconvert_exporter": "python",
   "pygments_lexer": "ipython3",
   "version": "3.12.4"
  }
 },
 "nbformat": 4,
 "nbformat_minor": 5
}
